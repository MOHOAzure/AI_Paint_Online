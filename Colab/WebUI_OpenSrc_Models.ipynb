{
  "cells": [
    {
      "cell_type": "markdown",
      "metadata": {
        "id": "view-in-github",
        "colab_type": "text"
      },
      "source": [
        "<a href=\"https://colab.research.google.com/github/MOHOAzure/AI_Paint_Online/blob/main/Colab/WebUI_OpenSrc_Models.ipynb\" target=\"_parent\"><img src=\"https://colab.research.google.com/assets/colab-badge.svg\" alt=\"Open In Colab\"/></a>"
      ]
    },
    {
      "cell_type": "markdown",
      "metadata": {
        "id": "gfKvWAVnz8OB"
      },
      "source": [
        "# Painting tool\n",
        "* https://github.com/AUTOMATIC1111/stable-diffusion-webui\n",
        "\n",
        "# Source of open source models\n",
        "* https://huggingface.co/\n",
        "* https://civitai.com/\n",
        "\n",
        "# Munual\n",
        "\n",
        "1. In Configuration, setup `account & pwd` to login to the Painting Tool. In order to prevent others from crawling your online deployment for use, it is strongly recommended to setup the account and password.\n",
        "\n",
        "2. (Optional) In Configuration, pick up features you need. E,g.,\n",
        "  * Models\n",
        "  * CUDA Calculation\n",
        "  * SuperMerger\n",
        "  * ControlNet\n",
        "\n",
        "3. In the navigation bar, click `Runtime (執行階段) > Run all (全部執行)` (or press: `Ctrl+F9`). Waiting setup to complete, and then you will get something like xxx.gradio.app. Click it to go to the launched Painting tool.\n",
        "\n",
        "4. After finish painting. In the navigation bar, click `Disconnect > Terminate`\n",
        "\n"
      ]
    },
    {
      "cell_type": "code",
      "source": [
        "#@title Configuration\n",
        "\n",
        "from pathlib import Path\n",
        "\n",
        "\n",
        "# define variables such as working directory\n",
        "root_dir = Path(\"/content\")\n",
        "tool_dir = root_dir/\"stable-diffusion-webui\"\n",
        "\n",
        "account = \"MY_ACCOUNT\" #@param {type:\"string\"}\n",
        "pwd = \"MY_PWD\" #@param {type:\"string\"}\n",
        "version = \"latest\" #@param [\"latest\", \"Commit ID\"] {allow-input: true}\n",
        "check_GPU = False # @param {type:\"boolean\"}\n",
        "use_cuda = False # @param {type:\"boolean\"}\n",
        "use_supermerge = False # @param {type:\"boolean\"}"
      ],
      "metadata": {
        "id": "dpc1EwbbcAa5",
        "cellView": "form"
      },
      "execution_count": 1,
      "outputs": []
    },
    {
      "cell_type": "code",
      "source": [
        "#@title (Optional) Configuration:: Model\n",
        "use_model_chilloutmix = True # @param {type:\"boolean\"}\n",
        "use_model_orange = True # @param {type:\"boolean\"}"
      ],
      "metadata": {
        "cellView": "form",
        "id": "ABlxCtpxs8kU"
      },
      "execution_count": 2,
      "outputs": []
    },
    {
      "cell_type": "code",
      "source": [
        "#@title (Optional) Configuration: ControlNet\n",
        "# @markdown ###ControlNet Reference\n",
        "# @markdown  - https://github.com/lllyasviel/ControlNet\n",
        "# @markdown  - https://github.com/Mikubill/sd-webui-controlnet\n",
        "# @markdown  - https://huggingface.co/webui/ControlNet-modules-safetensors/\n",
        "\n",
        "use_controlnet = False # @param {type:\"boolean\"}\n",
        "# @markdown ---\n",
        "\n",
        "# @markdown  After `use_controlnet` is ticked, select the feature you need\n",
        "control_canny = False # @param {type:\"boolean\"}\n",
        "control_depth = False # @param {type:\"boolean\"}\n",
        "control_hed = False # @param {type:\"boolean\"}\n",
        "control_mlsd = False # @param {type:\"boolean\"}\n",
        "control_normal = False # @param {type:\"boolean\"}\n",
        "control_openpose = False # @param {type:\"boolean\"}\n",
        "control_scribble = False # @param {type:\"boolean\"}\n",
        "control_seg = False # @param {type:\"boolean\"}\n",
        "t2iadapter_keypose = False # @param {type:\"boolean\"}\n",
        "t2iadapter_seg = False # @param {type:\"boolean\"}\n",
        "t2iadapter_sketch = False # @param {type:\"boolean\"}"
      ],
      "metadata": {
        "cellView": "form",
        "id": "BQ9VXHKbssdd"
      },
      "execution_count": 3,
      "outputs": []
    },
    {
      "cell_type": "code",
      "source": [
        "#@title Check GPU\n",
        "if check_GPU:\n",
        "  !nvidia-smi"
      ],
      "metadata": {
        "cellView": "form",
        "id": "xXqcwUf6dIwx"
      },
      "execution_count": 4,
      "outputs": []
    },
    {
      "cell_type": "code",
      "source": [
        "#@title Install Painting Tool\n",
        "\n",
        "%cd $root_dir\n",
        "\n",
        "# install tool: stable-diffusion-webui\n",
        "repo = \"https://github.com/AUTOMATIC1111/stable-diffusion-webui.git\"\n",
        "!git clone $repo\n",
        "\n",
        "# time machine: commit or branch\n",
        "if version:\n",
        "  !git checkout $version"
      ],
      "metadata": {
        "cellView": "form",
        "id": "MxOudntpdgjo"
      },
      "execution_count": null,
      "outputs": []
    },
    {
      "cell_type": "code",
      "source": [
        "#@title Install dependencies for Painting Tool\n",
        "\n",
        "# install xformers\n",
        "%cd {root_dir}\n",
        "# !pip install xformers\n",
        "!pip install xformers==0.0.17.dev464 # pre-release, fast calc\n",
        "!python -m xformers.info"
      ],
      "metadata": {
        "cellView": "form",
        "id": "WXLkepB6dp24"
      },
      "execution_count": null,
      "outputs": []
    },
    {
      "cell_type": "code",
      "source": [
        "#@title Install model\n",
        "model_collections = []\n",
        "# model_collections.append(\"https://huggingface.co/runwayml/stable-diffusion-v1-5\")\n",
        "\n",
        "vae_collections = []\n",
        "\n",
        "if use_model_chilloutmix:\n",
        "  model_collections.append(\"https://civitai.com/api/download/models/11732\")\n",
        "  \n",
        "if use_model_orange:\n",
        "  # model_collections.append(\"https://huggingface.co/WarriorMama777/OrangeMixs/resolve/main/Models/AbyssOrangeMix3/AOM3.safetensors\")\n",
        "  model_collections.append(\"https://huggingface.co/WarriorMama777/OrangeMixs/resolve/main/Models/AbyssOrangeMix3/AOM3A3.safetensors\")\n",
        "  vae_collections.append(\"https://huggingface.co/WarriorMama777/OrangeMixs/resolve/main/VAEs/orangemix.vae.pt\")\n",
        "\n",
        "\n",
        "%cd {tool_dir}/models/Stable-diffusion\n",
        "for model in model_collections:\n",
        "  !wget -nc --content-disposition {model}\n",
        "\n",
        "\n",
        "%cd {tool_dir}/models/VAE\n",
        "for vae in vae_collections:\n",
        "  !wget -nc --content-disposition {vae}"
      ],
      "metadata": {
        "id": "ubmp5e3ciY5f",
        "cellView": "form"
      },
      "execution_count": null,
      "outputs": []
    },
    {
      "cell_type": "code",
      "source": [
        "#@title TODO: Tool config"
      ],
      "metadata": {
        "cellView": "form",
        "id": "zUWI2Wirj1Di"
      },
      "execution_count": 11,
      "outputs": []
    },
    {
      "cell_type": "code",
      "source": [
        "#@title TODO: additional VAE"
      ],
      "metadata": {
        "cellView": "form",
        "id": "hnU79_iwj7VP"
      },
      "execution_count": 12,
      "outputs": []
    },
    {
      "cell_type": "code",
      "source": [
        "#@title TODO: embedding"
      ],
      "metadata": {
        "cellView": "form",
        "id": "V8Rofg9Zj7tf"
      },
      "execution_count": 13,
      "outputs": []
    },
    {
      "cell_type": "code",
      "execution_count": null,
      "metadata": {
        "id": "3bn_Nb798yRU",
        "cellView": "form"
      },
      "outputs": [],
      "source": [
        "#@title Install extensions for Painting Tool\n",
        "\n",
        "%cd {tool_dir}/extensions\n",
        "!git clone https://github.com/bbc-mc/sdweb-merge-board\n",
        "!git clone https://github.com/toriato/stable-diffusion-webui-wd14-tagger\n",
        "!git clone https://github.com/DominikDoom/a1111-sd-webui-tagcomplete.git\n",
        "# !git clone \n",
        "# !git clone https://github.com/7eu7d7/DreamArtist-sd-webui-extension.git\n",
        "# !git clone https://github.com/tkalayci71/embedding-inspector\n",
        "# !git clone https://github.com/bbc-mc/sdweb-merge-block-weighted-gui\n",
        "# !git clone https://github.com/Malisius/booru2prompt.git\n",
        "# !git clone https://github.com/adieyal/sd-dynamic-prompts\n",
        "# !git clone https://github.com/kousw/stable-diffusion-webui-daam\n",
        "# !git clone https://github.com/Akegarasu/sd-webui-model-converter.git"
      ]
    },
    {
      "cell_type": "code",
      "source": [
        "#@title Install extension: supermerge\n",
        "\n",
        "if use_supermerge:\n",
        "  %cd {tool_dir}/extensions  \n",
        "  !git clone https://github.com/hako-mikan/sd-webui-supermerger.git"
      ],
      "metadata": {
        "cellView": "form",
        "id": "j9DpfOqyfWyO"
      },
      "execution_count": 15,
      "outputs": []
    },
    {
      "cell_type": "code",
      "source": [
        "#@title Install extension: controlnet\n",
        "\n",
        "if use_controlnet:\n",
        "  %cd {tool_dir}/extensions\n",
        "  !git clone https://github.com/Mikubill/sd-webui-controlnet.git\n",
        "\n",
        "  control_net_models = []\n",
        "  if control_canny == True:\n",
        "      control_net_models.append(\"control_canny\")\n",
        "  if control_depth == True:\n",
        "      control_net_models.append(\"control_depth\")\n",
        "  if control_hed == True:\n",
        "      control_net_models.append(\"control_hed\")\n",
        "  if control_mlsd == True:\n",
        "      control_net_models.append(\"control_mlsd\")\n",
        "  if control_normal == True:\n",
        "      control_net_models.append(\"control_normal\")\n",
        "  if control_openpose == True:\n",
        "      control_net_models.append(\"control_openpose\")\n",
        "  if control_scribble == True:\n",
        "      control_net_models.append(\"control_scribble\")\n",
        "  if control_seg == True:\n",
        "      control_net_models.append(\"control_seg\")\n",
        "  if t2iadapter_keypose == True:\n",
        "      control_net_models.append(\"t2iadapter_keypose\")\n",
        "  if t2iadapter_seg == True:\n",
        "      control_net_models.append(\"t2iadapter_seg\")\n",
        "  if t2iadapter_sketch == True:\n",
        "      control_net_models.append(\"t2iadapter_sketch\")\n",
        "\n",
        "  if Path('sd-webui-controlnet').is_dir():\n",
        "      %cd sd-webui-controlnet/models\n",
        "      for control_net_model in control_net_models:\n",
        "        ! wget -nc --content-disposition https://huggingface.co/webui/ControlNet-modules-safetensors/resolve/main/{control_net_model}-fp16.safetensors"
      ],
      "metadata": {
        "id": "SqVOOeFsmF-S",
        "cellView": "form"
      },
      "execution_count": 16,
      "outputs": []
    },
    {
      "cell_type": "code",
      "source": [
        "#@title Use CUDA\n",
        "if use_cuda:\n",
        "  # use cuda instead of cpu for large model (e.g., 7G)\n",
        "  !sed -i 's/weight_load_location = None if cmd_opts.lowram else \"cpu\"/weight_load_location = None if cmd_opts.lowram else \"cuda\"/g' {tool_dir}/modules/shared.py"
      ],
      "metadata": {
        "cellView": "form",
        "id": "RxOs1jtTgEe4"
      },
      "execution_count": 17,
      "outputs": []
    },
    {
      "cell_type": "markdown",
      "source": [
        "# Tips\n",
        "Common Quality Prompt\n",
        "> magnificent, best quality, masterpiece, ultra-detailed, an extremely delicate and beautiful, extremely detailed, Hyperdetail, global illumination, beautiful and delicate\n",
        "\n",
        "Common Negative Prompt\n",
        "> lowres, blurry, worst quality, low quality, normal quality,bad anatomy, disfigured, deformed, mutation, mutilated, ugly, totem pole,poorly drawn face,  cloned face, several faces, long neck, mutated hands, bad hands, poorly drawn hands,extra limbs, malformed limbs, missing arms, missing fingers, extra fingers, fused fingers, too many fingers,missing legs, extra legs, malformed legs, extra digit, fewer digits, glitchy, cropped, jpeg artifacts, signature, watermark, username, text, error"
      ],
      "metadata": {
        "id": "w9K1zvxZyfzz"
      }
    },
    {
      "cell_type": "code",
      "execution_count": null,
      "metadata": {
        "id": "R-xAdMA5wxXd",
        "cellView": "form"
      },
      "outputs": [],
      "source": [
        "#@title Launch\n",
        "%cd {tool_dir}\n",
        "\n",
        "# use param to run tool\n",
        "# ref: https://github.com/AUTOMATIC1111/stable-diffusion-webui/wiki/Command-Line-Arguments-and-Settings\n",
        "# --no-progressbar-hiding (may slow down)\n",
        "arg = f\"--xformers --no-hashing --share --gradio-debug --gradio-auth {account}:{pwd} --disable-safe-unpickle --gradio-queue --enable-insecure-extension-access --no-half-vae\"\n",
        "\n",
        "!COMMANDLINE_ARGS=\"{arg}\" REQS_FILE=\"requirements.txt\" python launch.py"
      ]
    }
  ],
  "metadata": {
    "accelerator": "GPU",
    "colab": {
      "provenance": [],
      "toc_visible": true,
      "include_colab_link": true
    },
    "gpuClass": "standard",
    "kernelspec": {
      "display_name": "Python 3",
      "name": "python3"
    },
    "language_info": {
      "name": "python"
    }
  },
  "nbformat": 4,
  "nbformat_minor": 0
}