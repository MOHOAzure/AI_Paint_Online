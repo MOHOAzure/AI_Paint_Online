{
  "cells": [
    {
      "cell_type": "markdown",
      "metadata": {
        "id": "view-in-github",
        "colab_type": "text"
      },
      "source": [
        "<a href=\"https://colab.research.google.com/github/MOHOAzure/AI_Paint_Online/blob/main/Colab/WebUI_Marbal_Models.ipynb\" target=\"_parent\"><img src=\"https://colab.research.google.com/assets/colab-badge.svg\" alt=\"Open In Colab\"/></a>"
      ]
    },
    {
      "cell_type": "markdown",
      "metadata": {
        "id": "gfKvWAVnz8OB"
      },
      "source": [
        "Thanks for your contributions\n",
        "\n",
        "藏經閣\n",
        "https://drive.google.com/drive/folders/1vGc16Bb8CDW1piUj_5thzbsCmDFamYyt"
      ]
    },
    {
      "cell_type": "code",
      "execution_count": null,
      "metadata": {
        "id": "3bn_Nb798yRU",
        "cellView": "form"
      },
      "outputs": [],
      "source": [
        "#@title Setup Tool to use models on Marbel Drive\n",
        "\n",
        "# (optional: check GPU)\n",
        "!nvidia-smi\n",
        "\n",
        "# define working directory\n",
        "root_dir = \"/content\"\n",
        "tool_dir = \"/content/stable-diffusion-webui\"\n",
        "\n",
        "%cd $root_dir\n",
        "\n",
        "# Load Google Drive for my models\n",
        "from google.colab import drive\n",
        "drive.mount('/content/drive')\n",
        "\n",
        "# 685f96: The version most commonly used to merge models\n",
        "version = 'latest' #@param [\"latest\", \"685f9631b56ff8bd43bce24ff5ce0f9a0e9af490\"] {allow-input: true}\n",
        "\n",
        "def use_cuda():\n",
        "  # use cuda instead of cpu for large model (e.g., 7G)\n",
        "  !sed -i 's/weight_load_location = None if cmd_opts.lowram else \"cpu\"/weight_load_location = None if cmd_opts.lowram else \"cuda\"/g' /content/stable-diffusion-webui/modules/shared.py\n",
        "\n",
        "def install_dep():\n",
        "  # install xformers\n",
        "  %cd /content\n",
        "  !pip install xformers\n",
        "  # !python -m xformers.info\n",
        "\n",
        "def install_extentions():\n",
        "  %cd {tool_dir}/extensions\n",
        "  \n",
        "  !git clone https://github.com/7eu7d7/DreamArtist-sd-webui-extension.git\n",
        "  !git clone https://github.com/bbc-mc/sdweb-merge-board\n",
        "  !git clone https://github.com/tkalayci71/embedding-inspector\n",
        "  !git clone https://github.com/toriato/stable-diffusion-webui-wd14-tagger\n",
        "  !git clone https://github.com/bbc-mc/sdweb-merge-block-weighted-gui\n",
        "  !git clone https://github.com/Malisius/booru2prompt.git\n",
        "  !git clone https://github.com/DominikDoom/a1111-sd-webui-tagcomplete.git\n",
        "  !git clone https://github.com/imrayya/stable-diffusion-webui-Prompt_Generator.git\n",
        "  !git clone https://github.com/AlUlkesh/stable-diffusion-webui-images-browser.git\n",
        "  # !git clone https://github.com/adieyal/sd-dynamic-prompts\n",
        "  # !git clone https://github.com/kousw/stable-diffusion-webui-daam\n",
        "  # !git clone \n",
        "\n",
        "  # LoRA  \n",
        "  !git clone https://github.com/cloneofsimo/lora.git && sed -i 's/functools.cache/functools.lru_cache(maxsize=None)/g' /content/lora/lora_diffusion/xformers_utils.py && pip install /content/lora\n",
        "  !pip install accelerate bitsandbytes\n",
        "  !git clone https://github.com/kohya-ss/sd-webui-additional-networks\n",
        "\n",
        "def set_default_prompt_and_neg():\n",
        "  # TODO\n",
        "  pass\n",
        "\n",
        "# Install tool: stable-diffusion-webui\n",
        "repo = \"https://github.com/AUTOMATIC1111/stable-diffusion-webui.git\"\n",
        "!git clone $repo\n",
        "\n",
        "# time machine: commit or branch\n",
        "if version:\n",
        "  !git checkout $version\n",
        "\n",
        "install_dep()\n",
        "\n",
        "use_cuda()\n",
        "\n",
        "install_extentions()\n"
      ]
    },
    {
      "cell_type": "markdown",
      "metadata": {
        "id": "xt8lbdmC04ox"
      },
      "source": [
        "# Launch\n",
        "Provide a directory to models (sub dir is optional) and then run this script. You will get something like xxx.gradio.app, click it to go to the deployed Web UI.\n",
        "\n",
        "---\n",
        "\n",
        "This script use some parameters to run Web UI. The command line parameters are available at [stable-diffusion-webui Wiki](https://github.com/AUTOMATIC1111/stable-diffusion-webui/wiki/Command-Line-Arguments-and-Settings)\n",
        "\n",
        "The following parameters are the most important ones for use via colab & gradio:\n",
        "  - `--share` - create an online gradio.app link\n",
        "  - `--gradio-debug` - print output to console\n",
        "  - `--gradio-auth YOUR_ACCOUNT:YOUR_PWD` - create a login account\n",
        "\n",
        "*   In order to prevent others from crawling your online deployment for use, it is strongly recommended to modify the username and password, and `replace account & password with others`.\n",
        "\n",
        "---\n",
        "\n",
        "Common Negative Prompts:\n",
        "> lowres, blurry, worst quality, low quality, normal quality,bad anatomy, disfigured, deformed, mutation, mutilated, ugly, totem pole,poorly drawn face,  cloned face, several faces, long neck, mutated hands, bad hands, poorly drawn hands,extra limbs, malformed limbs, missing arms, missing fingers, extra fingers, fused fingers, too many fingers,missing legs, extra legs, malformed legs, extra digit, fewer digits, glitchy, cropped, jpeg artifacts, signature, watermark, username, text, error"
      ]
    },
    {
      "cell_type": "code",
      "execution_count": null,
      "metadata": {
        "id": "R-xAdMA5wxXd",
        "cellView": "form"
      },
      "outputs": [],
      "source": [
        "#@title Launch\n",
        "%cd {tool_dir}\n",
        "\n",
        "# security\n",
        "account = \"YOUR_ACCOUNT\" #@param {type:\"string\"}\n",
        "pwd = \"YOUR_PWD\" #@param {type:\"string\"}\n",
        "\n",
        "# model selection\n",
        "# the model dir is required to help tool to find models\n",
        "model_dir = \"/content/drive/MyDrive/marbel_models\" #@param {type:\"string\"}\n",
        "\n",
        "# the sub model dir is optional, default to use all models\n",
        "sub_model_dir = \"All\" #@param [\"All\", \"女巫\", \"融合 root\", \"融合 Akari H\", \"融合 青葉\"]\n",
        "if sub_model_dir == \"All\":\n",
        "  sub_model_dir = \"\"\n",
        "elif sub_model_dir == \"女巫\":\n",
        "  sub_model_dir = \"大理石流-統合召喚/沉默的小鎮\"\n",
        "elif sub_model_dir == \"融合 root\":\n",
        "  sub_model_dir = \"融合\"\n",
        "elif sub_model_dir == \"融合 青葉\":\n",
        "  sub_model_dir = \"融合/青葉\"\n",
        "elif sub_model_dir == \"融合 Akari H\":\n",
        "  sub_model_dir = \"融合/'Akari H'\"\n",
        "else:\n",
        "  pass\n",
        "\n",
        "# setup model dir\n",
        "import os\n",
        "model_dir = os.path.abspath(os.path.join(sub_model_dir, model_dir))\n",
        "\n",
        "# use param to run tool\n",
        "# notice: some param are only available at later versions\n",
        "arg = f\"--xformers --share --gradio-debug --gradio-auth {account}:{pwd} --disable-safe-unpickle --ckpt-dir {model_dir}\"\n",
        "!COMMANDLINE_ARGS=\"{arg}\" REQS_FILE=\"requirements.txt\" python launch.py\n"
      ]
    }
  ],
  "metadata": {
    "accelerator": "GPU",
    "colab": {
      "provenance": [],
      "include_colab_link": true
    },
    "gpuClass": "standard",
    "kernelspec": {
      "display_name": "Python 3",
      "name": "python3"
    },
    "language_info": {
      "name": "python"
    }
  },
  "nbformat": 4,
  "nbformat_minor": 0
}